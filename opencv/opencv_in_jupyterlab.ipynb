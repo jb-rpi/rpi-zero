# notebook to start to play with open cv

%pylab inline
import cv2

# local file on the rpi zero
im = imread("/home/pi/ftp/files/boubou0.jpg")
gray = cv2.cvtColor(im, cv2.COLOR_RGB2GRAY)
title("Original Image")
axis("off")
imshow(im)
show()

title("Grayscale Image")
axis("off")
imshow(gray, cmap= pylab.gray())
show()
